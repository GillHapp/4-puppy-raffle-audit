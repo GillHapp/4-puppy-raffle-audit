{
  "nbformat": 4,
  "nbformat_minor": 0,
  "metadata": {
    "colab": {
      "provenance": [],
      "gpuType": "T4",
      "include_colab_link": true
    },
    "kernelspec": {
      "name": "python3",
      "display_name": "Python 3"
    },
    "language_info": {
      "name": "python"
    },
    "accelerator": "GPU",
    "widgets": {
      "application/vnd.jupyter.widget-state+json": {
        "e1a5148bdd714fd29a781056752f06cf": {
          "model_module": "@jupyter-widgets/controls",
          "model_name": "HBoxModel",
          "model_module_version": "1.5.0",
          "state": {
            "_dom_classes": [],
            "_model_module": "@jupyter-widgets/controls",
            "_model_module_version": "1.5.0",
            "_model_name": "HBoxModel",
            "_view_count": null,
            "_view_module": "@jupyter-widgets/controls",
            "_view_module_version": "1.5.0",
            "_view_name": "HBoxView",
            "box_style": "",
            "children": [
              "IPY_MODEL_53ea7d45462342afacc85634a6ed6261",
              "IPY_MODEL_d40da17309e1439885e348059e808c41",
              "IPY_MODEL_e8bf1b7914f6463184b04ab56dcb61db"
            ],
            "layout": "IPY_MODEL_3b250e82752b4092894458eb285af680"
          }
        },
        "53ea7d45462342afacc85634a6ed6261": {
          "model_module": "@jupyter-widgets/controls",
          "model_name": "HTMLModel",
          "model_module_version": "1.5.0",
          "state": {
            "_dom_classes": [],
            "_model_module": "@jupyter-widgets/controls",
            "_model_module_version": "1.5.0",
            "_model_name": "HTMLModel",
            "_view_count": null,
            "_view_module": "@jupyter-widgets/controls",
            "_view_module_version": "1.5.0",
            "_view_name": "HTMLView",
            "description": "",
            "description_tooltip": null,
            "layout": "IPY_MODEL_bd06ef0f5433434298d148f043c389a3",
            "placeholder": "​",
            "style": "IPY_MODEL_add93dfa107f4b1cadb745c2304896ad",
            "value": "Map: 100%"
          }
        },
        "d40da17309e1439885e348059e808c41": {
          "model_module": "@jupyter-widgets/controls",
          "model_name": "FloatProgressModel",
          "model_module_version": "1.5.0",
          "state": {
            "_dom_classes": [],
            "_model_module": "@jupyter-widgets/controls",
            "_model_module_version": "1.5.0",
            "_model_name": "FloatProgressModel",
            "_view_count": null,
            "_view_module": "@jupyter-widgets/controls",
            "_view_module_version": "1.5.0",
            "_view_name": "ProgressView",
            "bar_style": "success",
            "description": "",
            "description_tooltip": null,
            "layout": "IPY_MODEL_9af782573221497c99ad30c96fc0e25d",
            "max": 2,
            "min": 0,
            "orientation": "horizontal",
            "style": "IPY_MODEL_47deeb3cd3bb4f4da7e3b5d92de0f86e",
            "value": 2
          }
        },
        "e8bf1b7914f6463184b04ab56dcb61db": {
          "model_module": "@jupyter-widgets/controls",
          "model_name": "HTMLModel",
          "model_module_version": "1.5.0",
          "state": {
            "_dom_classes": [],
            "_model_module": "@jupyter-widgets/controls",
            "_model_module_version": "1.5.0",
            "_model_name": "HTMLModel",
            "_view_count": null,
            "_view_module": "@jupyter-widgets/controls",
            "_view_module_version": "1.5.0",
            "_view_name": "HTMLView",
            "description": "",
            "description_tooltip": null,
            "layout": "IPY_MODEL_caa4488373aa466398265d8933681d5b",
            "placeholder": "​",
            "style": "IPY_MODEL_d39198854e9c4da99db9783b570e576d",
            "value": " 2/2 [00:00&lt;00:00, 64.52 examples/s]"
          }
        },
        "3b250e82752b4092894458eb285af680": {
          "model_module": "@jupyter-widgets/base",
          "model_name": "LayoutModel",
          "model_module_version": "1.2.0",
          "state": {
            "_model_module": "@jupyter-widgets/base",
            "_model_module_version": "1.2.0",
            "_model_name": "LayoutModel",
            "_view_count": null,
            "_view_module": "@jupyter-widgets/base",
            "_view_module_version": "1.2.0",
            "_view_name": "LayoutView",
            "align_content": null,
            "align_items": null,
            "align_self": null,
            "border": null,
            "bottom": null,
            "display": null,
            "flex": null,
            "flex_flow": null,
            "grid_area": null,
            "grid_auto_columns": null,
            "grid_auto_flow": null,
            "grid_auto_rows": null,
            "grid_column": null,
            "grid_gap": null,
            "grid_row": null,
            "grid_template_areas": null,
            "grid_template_columns": null,
            "grid_template_rows": null,
            "height": null,
            "justify_content": null,
            "justify_items": null,
            "left": null,
            "margin": null,
            "max_height": null,
            "max_width": null,
            "min_height": null,
            "min_width": null,
            "object_fit": null,
            "object_position": null,
            "order": null,
            "overflow": null,
            "overflow_x": null,
            "overflow_y": null,
            "padding": null,
            "right": null,
            "top": null,
            "visibility": null,
            "width": null
          }
        },
        "bd06ef0f5433434298d148f043c389a3": {
          "model_module": "@jupyter-widgets/base",
          "model_name": "LayoutModel",
          "model_module_version": "1.2.0",
          "state": {
            "_model_module": "@jupyter-widgets/base",
            "_model_module_version": "1.2.0",
            "_model_name": "LayoutModel",
            "_view_count": null,
            "_view_module": "@jupyter-widgets/base",
            "_view_module_version": "1.2.0",
            "_view_name": "LayoutView",
            "align_content": null,
            "align_items": null,
            "align_self": null,
            "border": null,
            "bottom": null,
            "display": null,
            "flex": null,
            "flex_flow": null,
            "grid_area": null,
            "grid_auto_columns": null,
            "grid_auto_flow": null,
            "grid_auto_rows": null,
            "grid_column": null,
            "grid_gap": null,
            "grid_row": null,
            "grid_template_areas": null,
            "grid_template_columns": null,
            "grid_template_rows": null,
            "height": null,
            "justify_content": null,
            "justify_items": null,
            "left": null,
            "margin": null,
            "max_height": null,
            "max_width": null,
            "min_height": null,
            "min_width": null,
            "object_fit": null,
            "object_position": null,
            "order": null,
            "overflow": null,
            "overflow_x": null,
            "overflow_y": null,
            "padding": null,
            "right": null,
            "top": null,
            "visibility": null,
            "width": null
          }
        },
        "add93dfa107f4b1cadb745c2304896ad": {
          "model_module": "@jupyter-widgets/controls",
          "model_name": "DescriptionStyleModel",
          "model_module_version": "1.5.0",
          "state": {
            "_model_module": "@jupyter-widgets/controls",
            "_model_module_version": "1.5.0",
            "_model_name": "DescriptionStyleModel",
            "_view_count": null,
            "_view_module": "@jupyter-widgets/base",
            "_view_module_version": "1.2.0",
            "_view_name": "StyleView",
            "description_width": ""
          }
        },
        "9af782573221497c99ad30c96fc0e25d": {
          "model_module": "@jupyter-widgets/base",
          "model_name": "LayoutModel",
          "model_module_version": "1.2.0",
          "state": {
            "_model_module": "@jupyter-widgets/base",
            "_model_module_version": "1.2.0",
            "_model_name": "LayoutModel",
            "_view_count": null,
            "_view_module": "@jupyter-widgets/base",
            "_view_module_version": "1.2.0",
            "_view_name": "LayoutView",
            "align_content": null,
            "align_items": null,
            "align_self": null,
            "border": null,
            "bottom": null,
            "display": null,
            "flex": null,
            "flex_flow": null,
            "grid_area": null,
            "grid_auto_columns": null,
            "grid_auto_flow": null,
            "grid_auto_rows": null,
            "grid_column": null,
            "grid_gap": null,
            "grid_row": null,
            "grid_template_areas": null,
            "grid_template_columns": null,
            "grid_template_rows": null,
            "height": null,
            "justify_content": null,
            "justify_items": null,
            "left": null,
            "margin": null,
            "max_height": null,
            "max_width": null,
            "min_height": null,
            "min_width": null,
            "object_fit": null,
            "object_position": null,
            "order": null,
            "overflow": null,
            "overflow_x": null,
            "overflow_y": null,
            "padding": null,
            "right": null,
            "top": null,
            "visibility": null,
            "width": null
          }
        },
        "47deeb3cd3bb4f4da7e3b5d92de0f86e": {
          "model_module": "@jupyter-widgets/controls",
          "model_name": "ProgressStyleModel",
          "model_module_version": "1.5.0",
          "state": {
            "_model_module": "@jupyter-widgets/controls",
            "_model_module_version": "1.5.0",
            "_model_name": "ProgressStyleModel",
            "_view_count": null,
            "_view_module": "@jupyter-widgets/base",
            "_view_module_version": "1.2.0",
            "_view_name": "StyleView",
            "bar_color": null,
            "description_width": ""
          }
        },
        "caa4488373aa466398265d8933681d5b": {
          "model_module": "@jupyter-widgets/base",
          "model_name": "LayoutModel",
          "model_module_version": "1.2.0",
          "state": {
            "_model_module": "@jupyter-widgets/base",
            "_model_module_version": "1.2.0",
            "_model_name": "LayoutModel",
            "_view_count": null,
            "_view_module": "@jupyter-widgets/base",
            "_view_module_version": "1.2.0",
            "_view_name": "LayoutView",
            "align_content": null,
            "align_items": null,
            "align_self": null,
            "border": null,
            "bottom": null,
            "display": null,
            "flex": null,
            "flex_flow": null,
            "grid_area": null,
            "grid_auto_columns": null,
            "grid_auto_flow": null,
            "grid_auto_rows": null,
            "grid_column": null,
            "grid_gap": null,
            "grid_row": null,
            "grid_template_areas": null,
            "grid_template_columns": null,
            "grid_template_rows": null,
            "height": null,
            "justify_content": null,
            "justify_items": null,
            "left": null,
            "margin": null,
            "max_height": null,
            "max_width": null,
            "min_height": null,
            "min_width": null,
            "object_fit": null,
            "object_position": null,
            "order": null,
            "overflow": null,
            "overflow_x": null,
            "overflow_y": null,
            "padding": null,
            "right": null,
            "top": null,
            "visibility": null,
            "width": null
          }
        },
        "d39198854e9c4da99db9783b570e576d": {
          "model_module": "@jupyter-widgets/controls",
          "model_name": "DescriptionStyleModel",
          "model_module_version": "1.5.0",
          "state": {
            "_model_module": "@jupyter-widgets/controls",
            "_model_module_version": "1.5.0",
            "_model_name": "DescriptionStyleModel",
            "_view_count": null,
            "_view_module": "@jupyter-widgets/base",
            "_view_module_version": "1.2.0",
            "_view_name": "StyleView",
            "description_width": ""
          }
        },
        "ad918ab99d9e423b8e4eb908f40ea567": {
          "model_module": "@jupyter-widgets/controls",
          "model_name": "HBoxModel",
          "model_module_version": "1.5.0",
          "state": {
            "_dom_classes": [],
            "_model_module": "@jupyter-widgets/controls",
            "_model_module_version": "1.5.0",
            "_model_name": "HBoxModel",
            "_view_count": null,
            "_view_module": "@jupyter-widgets/controls",
            "_view_module_version": "1.5.0",
            "_view_name": "HBoxView",
            "box_style": "",
            "children": [
              "IPY_MODEL_b8f3af72b6b74e429da7493a2c8196fc",
              "IPY_MODEL_586c643726744d01ae6359f5a29c2189",
              "IPY_MODEL_4bc219f9b88241168d2bb05a7e730b10"
            ],
            "layout": "IPY_MODEL_4397d6cadff2462c94b4c59beb87e0ff"
          }
        },
        "b8f3af72b6b74e429da7493a2c8196fc": {
          "model_module": "@jupyter-widgets/controls",
          "model_name": "HTMLModel",
          "model_module_version": "1.5.0",
          "state": {
            "_dom_classes": [],
            "_model_module": "@jupyter-widgets/controls",
            "_model_module_version": "1.5.0",
            "_model_name": "HTMLModel",
            "_view_count": null,
            "_view_module": "@jupyter-widgets/controls",
            "_view_module_version": "1.5.0",
            "_view_name": "HTMLView",
            "description": "",
            "description_tooltip": null,
            "layout": "IPY_MODEL_83c8cdbb4c2242509cf843f8badc5680",
            "placeholder": "​",
            "style": "IPY_MODEL_58e567e5c9bc4fd79f2ee1f355487cc9",
            "value": "Map: 100%"
          }
        },
        "586c643726744d01ae6359f5a29c2189": {
          "model_module": "@jupyter-widgets/controls",
          "model_name": "FloatProgressModel",
          "model_module_version": "1.5.0",
          "state": {
            "_dom_classes": [],
            "_model_module": "@jupyter-widgets/controls",
            "_model_module_version": "1.5.0",
            "_model_name": "FloatProgressModel",
            "_view_count": null,
            "_view_module": "@jupyter-widgets/controls",
            "_view_module_version": "1.5.0",
            "_view_name": "ProgressView",
            "bar_style": "success",
            "description": "",
            "description_tooltip": null,
            "layout": "IPY_MODEL_8318123303fb408eaaafb3728561911c",
            "max": 2,
            "min": 0,
            "orientation": "horizontal",
            "style": "IPY_MODEL_25826b5dd6a7474dbacf13e53e46d8b1",
            "value": 2
          }
        },
        "4bc219f9b88241168d2bb05a7e730b10": {
          "model_module": "@jupyter-widgets/controls",
          "model_name": "HTMLModel",
          "model_module_version": "1.5.0",
          "state": {
            "_dom_classes": [],
            "_model_module": "@jupyter-widgets/controls",
            "_model_module_version": "1.5.0",
            "_model_name": "HTMLModel",
            "_view_count": null,
            "_view_module": "@jupyter-widgets/controls",
            "_view_module_version": "1.5.0",
            "_view_name": "HTMLView",
            "description": "",
            "description_tooltip": null,
            "layout": "IPY_MODEL_e6393532c1894108be80de4828172d5a",
            "placeholder": "​",
            "style": "IPY_MODEL_d1bdf5d8119740b2b5238c321f65bb9a",
            "value": " 2/2 [00:00&lt;00:00, 58.26 examples/s]"
          }
        },
        "4397d6cadff2462c94b4c59beb87e0ff": {
          "model_module": "@jupyter-widgets/base",
          "model_name": "LayoutModel",
          "model_module_version": "1.2.0",
          "state": {
            "_model_module": "@jupyter-widgets/base",
            "_model_module_version": "1.2.0",
            "_model_name": "LayoutModel",
            "_view_count": null,
            "_view_module": "@jupyter-widgets/base",
            "_view_module_version": "1.2.0",
            "_view_name": "LayoutView",
            "align_content": null,
            "align_items": null,
            "align_self": null,
            "border": null,
            "bottom": null,
            "display": null,
            "flex": null,
            "flex_flow": null,
            "grid_area": null,
            "grid_auto_columns": null,
            "grid_auto_flow": null,
            "grid_auto_rows": null,
            "grid_column": null,
            "grid_gap": null,
            "grid_row": null,
            "grid_template_areas": null,
            "grid_template_columns": null,
            "grid_template_rows": null,
            "height": null,
            "justify_content": null,
            "justify_items": null,
            "left": null,
            "margin": null,
            "max_height": null,
            "max_width": null,
            "min_height": null,
            "min_width": null,
            "object_fit": null,
            "object_position": null,
            "order": null,
            "overflow": null,
            "overflow_x": null,
            "overflow_y": null,
            "padding": null,
            "right": null,
            "top": null,
            "visibility": null,
            "width": null
          }
        },
        "83c8cdbb4c2242509cf843f8badc5680": {
          "model_module": "@jupyter-widgets/base",
          "model_name": "LayoutModel",
          "model_module_version": "1.2.0",
          "state": {
            "_model_module": "@jupyter-widgets/base",
            "_model_module_version": "1.2.0",
            "_model_name": "LayoutModel",
            "_view_count": null,
            "_view_module": "@jupyter-widgets/base",
            "_view_module_version": "1.2.0",
            "_view_name": "LayoutView",
            "align_content": null,
            "align_items": null,
            "align_self": null,
            "border": null,
            "bottom": null,
            "display": null,
            "flex": null,
            "flex_flow": null,
            "grid_area": null,
            "grid_auto_columns": null,
            "grid_auto_flow": null,
            "grid_auto_rows": null,
            "grid_column": null,
            "grid_gap": null,
            "grid_row": null,
            "grid_template_areas": null,
            "grid_template_columns": null,
            "grid_template_rows": null,
            "height": null,
            "justify_content": null,
            "justify_items": null,
            "left": null,
            "margin": null,
            "max_height": null,
            "max_width": null,
            "min_height": null,
            "min_width": null,
            "object_fit": null,
            "object_position": null,
            "order": null,
            "overflow": null,
            "overflow_x": null,
            "overflow_y": null,
            "padding": null,
            "right": null,
            "top": null,
            "visibility": null,
            "width": null
          }
        },
        "58e567e5c9bc4fd79f2ee1f355487cc9": {
          "model_module": "@jupyter-widgets/controls",
          "model_name": "DescriptionStyleModel",
          "model_module_version": "1.5.0",
          "state": {
            "_model_module": "@jupyter-widgets/controls",
            "_model_module_version": "1.5.0",
            "_model_name": "DescriptionStyleModel",
            "_view_count": null,
            "_view_module": "@jupyter-widgets/base",
            "_view_module_version": "1.2.0",
            "_view_name": "StyleView",
            "description_width": ""
          }
        },
        "8318123303fb408eaaafb3728561911c": {
          "model_module": "@jupyter-widgets/base",
          "model_name": "LayoutModel",
          "model_module_version": "1.2.0",
          "state": {
            "_model_module": "@jupyter-widgets/base",
            "_model_module_version": "1.2.0",
            "_model_name": "LayoutModel",
            "_view_count": null,
            "_view_module": "@jupyter-widgets/base",
            "_view_module_version": "1.2.0",
            "_view_name": "LayoutView",
            "align_content": null,
            "align_items": null,
            "align_self": null,
            "border": null,
            "bottom": null,
            "display": null,
            "flex": null,
            "flex_flow": null,
            "grid_area": null,
            "grid_auto_columns": null,
            "grid_auto_flow": null,
            "grid_auto_rows": null,
            "grid_column": null,
            "grid_gap": null,
            "grid_row": null,
            "grid_template_areas": null,
            "grid_template_columns": null,
            "grid_template_rows": null,
            "height": null,
            "justify_content": null,
            "justify_items": null,
            "left": null,
            "margin": null,
            "max_height": null,
            "max_width": null,
            "min_height": null,
            "min_width": null,
            "object_fit": null,
            "object_position": null,
            "order": null,
            "overflow": null,
            "overflow_x": null,
            "overflow_y": null,
            "padding": null,
            "right": null,
            "top": null,
            "visibility": null,
            "width": null
          }
        },
        "25826b5dd6a7474dbacf13e53e46d8b1": {
          "model_module": "@jupyter-widgets/controls",
          "model_name": "ProgressStyleModel",
          "model_module_version": "1.5.0",
          "state": {
            "_model_module": "@jupyter-widgets/controls",
            "_model_module_version": "1.5.0",
            "_model_name": "ProgressStyleModel",
            "_view_count": null,
            "_view_module": "@jupyter-widgets/base",
            "_view_module_version": "1.2.0",
            "_view_name": "StyleView",
            "bar_color": null,
            "description_width": ""
          }
        },
        "e6393532c1894108be80de4828172d5a": {
          "model_module": "@jupyter-widgets/base",
          "model_name": "LayoutModel",
          "model_module_version": "1.2.0",
          "state": {
            "_model_module": "@jupyter-widgets/base",
            "_model_module_version": "1.2.0",
            "_model_name": "LayoutModel",
            "_view_count": null,
            "_view_module": "@jupyter-widgets/base",
            "_view_module_version": "1.2.0",
            "_view_name": "LayoutView",
            "align_content": null,
            "align_items": null,
            "align_self": null,
            "border": null,
            "bottom": null,
            "display": null,
            "flex": null,
            "flex_flow": null,
            "grid_area": null,
            "grid_auto_columns": null,
            "grid_auto_flow": null,
            "grid_auto_rows": null,
            "grid_column": null,
            "grid_gap": null,
            "grid_row": null,
            "grid_template_areas": null,
            "grid_template_columns": null,
            "grid_template_rows": null,
            "height": null,
            "justify_content": null,
            "justify_items": null,
            "left": null,
            "margin": null,
            "max_height": null,
            "max_width": null,
            "min_height": null,
            "min_width": null,
            "object_fit": null,
            "object_position": null,
            "order": null,
            "overflow": null,
            "overflow_x": null,
            "overflow_y": null,
            "padding": null,
            "right": null,
            "top": null,
            "visibility": null,
            "width": null
          }
        },
        "d1bdf5d8119740b2b5238c321f65bb9a": {
          "model_module": "@jupyter-widgets/controls",
          "model_name": "DescriptionStyleModel",
          "model_module_version": "1.5.0",
          "state": {
            "_model_module": "@jupyter-widgets/controls",
            "_model_module_version": "1.5.0",
            "_model_name": "DescriptionStyleModel",
            "_view_count": null,
            "_view_module": "@jupyter-widgets/base",
            "_view_module_version": "1.2.0",
            "_view_name": "StyleView",
            "description_width": ""
          }
        }
      }
    }
  },
  "cells": [
    {
      "cell_type": "markdown",
      "metadata": {
        "id": "view-in-github",
        "colab_type": "text"
      },
      "source": [
        "<a href=\"https://colab.research.google.com/github/GillHapp/4-puppy-raffle-audit/blob/main/New_ross_PDF.ipynb\" target=\"_parent\"><img src=\"https://colab.research.google.com/assets/colab-badge.svg\" alt=\"Open In Colab\"/></a>"
      ]
    },
    {
      "cell_type": "code",
      "execution_count": null,
      "metadata": {
        "colab": {
          "base_uri": "https://localhost:8080/"
        },
        "collapsed": true,
        "id": "3j_W1T9kip2b",
        "outputId": "914e9072-b617-4b60-ab8f-98373d865d53"
      },
      "outputs": [
        {
          "output_type": "stream",
          "name": "stdout",
          "text": [
            "✅ GPU memory cleared.\n",
            "Requirement already satisfied: peft in /usr/local/lib/python3.12/dist-packages (0.17.1)\n",
            "Requirement already satisfied: bitsandbytes in /usr/local/lib/python3.12/dist-packages (0.48.1)\n",
            "Requirement already satisfied: transformers in /usr/local/lib/python3.12/dist-packages (4.57.1)\n",
            "Requirement already satisfied: accelerate in /usr/local/lib/python3.12/dist-packages (1.11.0)\n",
            "Requirement already satisfied: numpy>=1.17 in /usr/local/lib/python3.12/dist-packages (from peft) (2.0.2)\n",
            "Requirement already satisfied: packaging>=20.0 in /usr/local/lib/python3.12/dist-packages (from peft) (25.0)\n",
            "Requirement already satisfied: psutil in /usr/local/lib/python3.12/dist-packages (from peft) (5.9.5)\n",
            "Requirement already satisfied: pyyaml in /usr/local/lib/python3.12/dist-packages (from peft) (6.0.3)\n",
            "Requirement already satisfied: torch>=1.13.0 in /usr/local/lib/python3.12/dist-packages (from peft) (2.8.0+cu126)\n",
            "Requirement already satisfied: tqdm in /usr/local/lib/python3.12/dist-packages (from peft) (4.67.1)\n",
            "Requirement already satisfied: safetensors in /usr/local/lib/python3.12/dist-packages (from peft) (0.6.2)\n",
            "Requirement already satisfied: huggingface_hub>=0.25.0 in /usr/local/lib/python3.12/dist-packages (from peft) (0.36.0)\n",
            "Requirement already satisfied: filelock in /usr/local/lib/python3.12/dist-packages (from transformers) (3.20.0)\n",
            "Requirement already satisfied: regex!=2019.12.17 in /usr/local/lib/python3.12/dist-packages (from transformers) (2024.11.6)\n",
            "Requirement already satisfied: requests in /usr/local/lib/python3.12/dist-packages (from transformers) (2.32.4)\n",
            "Requirement already satisfied: tokenizers<=0.23.0,>=0.22.0 in /usr/local/lib/python3.12/dist-packages (from transformers) (0.22.1)\n",
            "Requirement already satisfied: fsspec>=2023.5.0 in /usr/local/lib/python3.12/dist-packages (from huggingface_hub>=0.25.0->peft) (2025.3.0)\n",
            "Requirement already satisfied: typing-extensions>=3.7.4.3 in /usr/local/lib/python3.12/dist-packages (from huggingface_hub>=0.25.0->peft) (4.15.0)\n",
            "Requirement already satisfied: hf-xet<2.0.0,>=1.1.3 in /usr/local/lib/python3.12/dist-packages (from huggingface_hub>=0.25.0->peft) (1.2.0)\n",
            "Requirement already satisfied: setuptools in /usr/local/lib/python3.12/dist-packages (from torch>=1.13.0->peft) (75.2.0)\n",
            "Requirement already satisfied: sympy>=1.13.3 in /usr/local/lib/python3.12/dist-packages (from torch>=1.13.0->peft) (1.13.3)\n",
            "Requirement already satisfied: networkx in /usr/local/lib/python3.12/dist-packages (from torch>=1.13.0->peft) (3.5)\n",
            "Requirement already satisfied: jinja2 in /usr/local/lib/python3.12/dist-packages (from torch>=1.13.0->peft) (3.1.6)\n",
            "Requirement already satisfied: nvidia-cuda-nvrtc-cu12==12.6.77 in /usr/local/lib/python3.12/dist-packages (from torch>=1.13.0->peft) (12.6.77)\n",
            "Requirement already satisfied: nvidia-cuda-runtime-cu12==12.6.77 in /usr/local/lib/python3.12/dist-packages (from torch>=1.13.0->peft) (12.6.77)\n",
            "Requirement already satisfied: nvidia-cuda-cupti-cu12==12.6.80 in /usr/local/lib/python3.12/dist-packages (from torch>=1.13.0->peft) (12.6.80)\n",
            "Requirement already satisfied: nvidia-cudnn-cu12==9.10.2.21 in /usr/local/lib/python3.12/dist-packages (from torch>=1.13.0->peft) (9.10.2.21)\n",
            "Requirement already satisfied: nvidia-cublas-cu12==12.6.4.1 in /usr/local/lib/python3.12/dist-packages (from torch>=1.13.0->peft) (12.6.4.1)\n",
            "Requirement already satisfied: nvidia-cufft-cu12==11.3.0.4 in /usr/local/lib/python3.12/dist-packages (from torch>=1.13.0->peft) (11.3.0.4)\n",
            "Requirement already satisfied: nvidia-curand-cu12==10.3.7.77 in /usr/local/lib/python3.12/dist-packages (from torch>=1.13.0->peft) (10.3.7.77)\n",
            "Requirement already satisfied: nvidia-cusolver-cu12==11.7.1.2 in /usr/local/lib/python3.12/dist-packages (from torch>=1.13.0->peft) (11.7.1.2)\n",
            "Requirement already satisfied: nvidia-cusparse-cu12==12.5.4.2 in /usr/local/lib/python3.12/dist-packages (from torch>=1.13.0->peft) (12.5.4.2)\n",
            "Requirement already satisfied: nvidia-cusparselt-cu12==0.7.1 in /usr/local/lib/python3.12/dist-packages (from torch>=1.13.0->peft) (0.7.1)\n",
            "Requirement already satisfied: nvidia-nccl-cu12==2.27.3 in /usr/local/lib/python3.12/dist-packages (from torch>=1.13.0->peft) (2.27.3)\n",
            "Requirement already satisfied: nvidia-nvtx-cu12==12.6.77 in /usr/local/lib/python3.12/dist-packages (from torch>=1.13.0->peft) (12.6.77)\n",
            "Requirement already satisfied: nvidia-nvjitlink-cu12==12.6.85 in /usr/local/lib/python3.12/dist-packages (from torch>=1.13.0->peft) (12.6.85)\n",
            "Requirement already satisfied: nvidia-cufile-cu12==1.11.1.6 in /usr/local/lib/python3.12/dist-packages (from torch>=1.13.0->peft) (1.11.1.6)\n",
            "Requirement already satisfied: triton==3.4.0 in /usr/local/lib/python3.12/dist-packages (from torch>=1.13.0->peft) (3.4.0)\n",
            "Requirement already satisfied: charset_normalizer<4,>=2 in /usr/local/lib/python3.12/dist-packages (from requests->transformers) (3.4.4)\n",
            "Requirement already satisfied: idna<4,>=2.5 in /usr/local/lib/python3.12/dist-packages (from requests->transformers) (3.11)\n",
            "Requirement already satisfied: urllib3<3,>=1.21.1 in /usr/local/lib/python3.12/dist-packages (from requests->transformers) (2.5.0)\n",
            "Requirement already satisfied: certifi>=2017.4.17 in /usr/local/lib/python3.12/dist-packages (from requests->transformers) (2025.10.5)\n",
            "Requirement already satisfied: mpmath<1.4,>=1.1.0 in /usr/local/lib/python3.12/dist-packages (from sympy>=1.13.3->torch>=1.13.0->peft) (1.3.0)\n",
            "Requirement already satisfied: MarkupSafe>=2.0 in /usr/local/lib/python3.12/dist-packages (from jinja2->torch>=1.13.0->peft) (3.0.3)\n"
          ]
        }
      ],
      "source": [
        "import torch, gc\n",
        "gc.collect()\n",
        "torch.cuda.empty_cache()\n",
        "print(\"✅ GPU memory cleared.\")\n",
        "\n",
        "!pip install -U peft bitsandbytes transformers accelerate\n"
      ]
    },
    {
      "cell_type": "code",
      "source": [
        "!pip install -U trl\n"
      ],
      "metadata": {
        "collapsed": true,
        "colab": {
          "base_uri": "https://localhost:8080/"
        },
        "id": "QN_S_aZA4rk8",
        "outputId": "cd5745fd-ef88-40bf-f231-e067f2758c00"
      },
      "execution_count": null,
      "outputs": [
        {
          "output_type": "stream",
          "name": "stdout",
          "text": [
            "Requirement already satisfied: trl in /usr/local/lib/python3.12/dist-packages (0.24.0)\n",
            "Requirement already satisfied: accelerate>=1.4.0 in /usr/local/lib/python3.12/dist-packages (from trl) (1.11.0)\n",
            "Requirement already satisfied: datasets>=3.0.0 in /usr/local/lib/python3.12/dist-packages (from trl) (4.0.0)\n",
            "Requirement already satisfied: transformers>=4.56.1 in /usr/local/lib/python3.12/dist-packages (from trl) (4.57.1)\n",
            "Requirement already satisfied: numpy>=1.17 in /usr/local/lib/python3.12/dist-packages (from accelerate>=1.4.0->trl) (2.0.2)\n",
            "Requirement already satisfied: packaging>=20.0 in /usr/local/lib/python3.12/dist-packages (from accelerate>=1.4.0->trl) (25.0)\n",
            "Requirement already satisfied: psutil in /usr/local/lib/python3.12/dist-packages (from accelerate>=1.4.0->trl) (5.9.5)\n",
            "Requirement already satisfied: pyyaml in /usr/local/lib/python3.12/dist-packages (from accelerate>=1.4.0->trl) (6.0.3)\n",
            "Requirement already satisfied: torch>=2.0.0 in /usr/local/lib/python3.12/dist-packages (from accelerate>=1.4.0->trl) (2.8.0+cu126)\n",
            "Requirement already satisfied: huggingface_hub>=0.21.0 in /usr/local/lib/python3.12/dist-packages (from accelerate>=1.4.0->trl) (0.36.0)\n",
            "Requirement already satisfied: safetensors>=0.4.3 in /usr/local/lib/python3.12/dist-packages (from accelerate>=1.4.0->trl) (0.6.2)\n",
            "Requirement already satisfied: filelock in /usr/local/lib/python3.12/dist-packages (from datasets>=3.0.0->trl) (3.20.0)\n",
            "Requirement already satisfied: pyarrow>=15.0.0 in /usr/local/lib/python3.12/dist-packages (from datasets>=3.0.0->trl) (18.1.0)\n",
            "Requirement already satisfied: dill<0.3.9,>=0.3.0 in /usr/local/lib/python3.12/dist-packages (from datasets>=3.0.0->trl) (0.3.8)\n",
            "Requirement already satisfied: pandas in /usr/local/lib/python3.12/dist-packages (from datasets>=3.0.0->trl) (2.2.2)\n",
            "Requirement already satisfied: requests>=2.32.2 in /usr/local/lib/python3.12/dist-packages (from datasets>=3.0.0->trl) (2.32.4)\n",
            "Requirement already satisfied: tqdm>=4.66.3 in /usr/local/lib/python3.12/dist-packages (from datasets>=3.0.0->trl) (4.67.1)\n",
            "Requirement already satisfied: xxhash in /usr/local/lib/python3.12/dist-packages (from datasets>=3.0.0->trl) (3.6.0)\n",
            "Requirement already satisfied: multiprocess<0.70.17 in /usr/local/lib/python3.12/dist-packages (from datasets>=3.0.0->trl) (0.70.16)\n",
            "Requirement already satisfied: fsspec<=2025.3.0,>=2023.1.0 in /usr/local/lib/python3.12/dist-packages (from fsspec[http]<=2025.3.0,>=2023.1.0->datasets>=3.0.0->trl) (2025.3.0)\n",
            "Requirement already satisfied: regex!=2019.12.17 in /usr/local/lib/python3.12/dist-packages (from transformers>=4.56.1->trl) (2024.11.6)\n",
            "Requirement already satisfied: tokenizers<=0.23.0,>=0.22.0 in /usr/local/lib/python3.12/dist-packages (from transformers>=4.56.1->trl) (0.22.1)\n",
            "Requirement already satisfied: aiohttp!=4.0.0a0,!=4.0.0a1 in /usr/local/lib/python3.12/dist-packages (from fsspec[http]<=2025.3.0,>=2023.1.0->datasets>=3.0.0->trl) (3.13.1)\n",
            "Requirement already satisfied: typing-extensions>=3.7.4.3 in /usr/local/lib/python3.12/dist-packages (from huggingface_hub>=0.21.0->accelerate>=1.4.0->trl) (4.15.0)\n",
            "Requirement already satisfied: hf-xet<2.0.0,>=1.1.3 in /usr/local/lib/python3.12/dist-packages (from huggingface_hub>=0.21.0->accelerate>=1.4.0->trl) (1.2.0)\n",
            "Requirement already satisfied: charset_normalizer<4,>=2 in /usr/local/lib/python3.12/dist-packages (from requests>=2.32.2->datasets>=3.0.0->trl) (3.4.4)\n",
            "Requirement already satisfied: idna<4,>=2.5 in /usr/local/lib/python3.12/dist-packages (from requests>=2.32.2->datasets>=3.0.0->trl) (3.11)\n",
            "Requirement already satisfied: urllib3<3,>=1.21.1 in /usr/local/lib/python3.12/dist-packages (from requests>=2.32.2->datasets>=3.0.0->trl) (2.5.0)\n",
            "Requirement already satisfied: certifi>=2017.4.17 in /usr/local/lib/python3.12/dist-packages (from requests>=2.32.2->datasets>=3.0.0->trl) (2025.10.5)\n",
            "Requirement already satisfied: setuptools in /usr/local/lib/python3.12/dist-packages (from torch>=2.0.0->accelerate>=1.4.0->trl) (75.2.0)\n",
            "Requirement already satisfied: sympy>=1.13.3 in /usr/local/lib/python3.12/dist-packages (from torch>=2.0.0->accelerate>=1.4.0->trl) (1.13.3)\n",
            "Requirement already satisfied: networkx in /usr/local/lib/python3.12/dist-packages (from torch>=2.0.0->accelerate>=1.4.0->trl) (3.5)\n",
            "Requirement already satisfied: jinja2 in /usr/local/lib/python3.12/dist-packages (from torch>=2.0.0->accelerate>=1.4.0->trl) (3.1.6)\n",
            "Requirement already satisfied: nvidia-cuda-nvrtc-cu12==12.6.77 in /usr/local/lib/python3.12/dist-packages (from torch>=2.0.0->accelerate>=1.4.0->trl) (12.6.77)\n",
            "Requirement already satisfied: nvidia-cuda-runtime-cu12==12.6.77 in /usr/local/lib/python3.12/dist-packages (from torch>=2.0.0->accelerate>=1.4.0->trl) (12.6.77)\n",
            "Requirement already satisfied: nvidia-cuda-cupti-cu12==12.6.80 in /usr/local/lib/python3.12/dist-packages (from torch>=2.0.0->accelerate>=1.4.0->trl) (12.6.80)\n",
            "Requirement already satisfied: nvidia-cudnn-cu12==9.10.2.21 in /usr/local/lib/python3.12/dist-packages (from torch>=2.0.0->accelerate>=1.4.0->trl) (9.10.2.21)\n",
            "Requirement already satisfied: nvidia-cublas-cu12==12.6.4.1 in /usr/local/lib/python3.12/dist-packages (from torch>=2.0.0->accelerate>=1.4.0->trl) (12.6.4.1)\n",
            "Requirement already satisfied: nvidia-cufft-cu12==11.3.0.4 in /usr/local/lib/python3.12/dist-packages (from torch>=2.0.0->accelerate>=1.4.0->trl) (11.3.0.4)\n",
            "Requirement already satisfied: nvidia-curand-cu12==10.3.7.77 in /usr/local/lib/python3.12/dist-packages (from torch>=2.0.0->accelerate>=1.4.0->trl) (10.3.7.77)\n",
            "Requirement already satisfied: nvidia-cusolver-cu12==11.7.1.2 in /usr/local/lib/python3.12/dist-packages (from torch>=2.0.0->accelerate>=1.4.0->trl) (11.7.1.2)\n",
            "Requirement already satisfied: nvidia-cusparse-cu12==12.5.4.2 in /usr/local/lib/python3.12/dist-packages (from torch>=2.0.0->accelerate>=1.4.0->trl) (12.5.4.2)\n",
            "Requirement already satisfied: nvidia-cusparselt-cu12==0.7.1 in /usr/local/lib/python3.12/dist-packages (from torch>=2.0.0->accelerate>=1.4.0->trl) (0.7.1)\n",
            "Requirement already satisfied: nvidia-nccl-cu12==2.27.3 in /usr/local/lib/python3.12/dist-packages (from torch>=2.0.0->accelerate>=1.4.0->trl) (2.27.3)\n",
            "Requirement already satisfied: nvidia-nvtx-cu12==12.6.77 in /usr/local/lib/python3.12/dist-packages (from torch>=2.0.0->accelerate>=1.4.0->trl) (12.6.77)\n",
            "Requirement already satisfied: nvidia-nvjitlink-cu12==12.6.85 in /usr/local/lib/python3.12/dist-packages (from torch>=2.0.0->accelerate>=1.4.0->trl) (12.6.85)\n",
            "Requirement already satisfied: nvidia-cufile-cu12==1.11.1.6 in /usr/local/lib/python3.12/dist-packages (from torch>=2.0.0->accelerate>=1.4.0->trl) (1.11.1.6)\n",
            "Requirement already satisfied: triton==3.4.0 in /usr/local/lib/python3.12/dist-packages (from torch>=2.0.0->accelerate>=1.4.0->trl) (3.4.0)\n",
            "Requirement already satisfied: python-dateutil>=2.8.2 in /usr/local/lib/python3.12/dist-packages (from pandas->datasets>=3.0.0->trl) (2.9.0.post0)\n",
            "Requirement already satisfied: pytz>=2020.1 in /usr/local/lib/python3.12/dist-packages (from pandas->datasets>=3.0.0->trl) (2025.2)\n",
            "Requirement already satisfied: tzdata>=2022.7 in /usr/local/lib/python3.12/dist-packages (from pandas->datasets>=3.0.0->trl) (2025.2)\n",
            "Requirement already satisfied: aiohappyeyeballs>=2.5.0 in /usr/local/lib/python3.12/dist-packages (from aiohttp!=4.0.0a0,!=4.0.0a1->fsspec[http]<=2025.3.0,>=2023.1.0->datasets>=3.0.0->trl) (2.6.1)\n",
            "Requirement already satisfied: aiosignal>=1.4.0 in /usr/local/lib/python3.12/dist-packages (from aiohttp!=4.0.0a0,!=4.0.0a1->fsspec[http]<=2025.3.0,>=2023.1.0->datasets>=3.0.0->trl) (1.4.0)\n",
            "Requirement already satisfied: attrs>=17.3.0 in /usr/local/lib/python3.12/dist-packages (from aiohttp!=4.0.0a0,!=4.0.0a1->fsspec[http]<=2025.3.0,>=2023.1.0->datasets>=3.0.0->trl) (25.4.0)\n",
            "Requirement already satisfied: frozenlist>=1.1.1 in /usr/local/lib/python3.12/dist-packages (from aiohttp!=4.0.0a0,!=4.0.0a1->fsspec[http]<=2025.3.0,>=2023.1.0->datasets>=3.0.0->trl) (1.8.0)\n",
            "Requirement already satisfied: multidict<7.0,>=4.5 in /usr/local/lib/python3.12/dist-packages (from aiohttp!=4.0.0a0,!=4.0.0a1->fsspec[http]<=2025.3.0,>=2023.1.0->datasets>=3.0.0->trl) (6.7.0)\n",
            "Requirement already satisfied: propcache>=0.2.0 in /usr/local/lib/python3.12/dist-packages (from aiohttp!=4.0.0a0,!=4.0.0a1->fsspec[http]<=2025.3.0,>=2023.1.0->datasets>=3.0.0->trl) (0.4.1)\n",
            "Requirement already satisfied: yarl<2.0,>=1.17.0 in /usr/local/lib/python3.12/dist-packages (from aiohttp!=4.0.0a0,!=4.0.0a1->fsspec[http]<=2025.3.0,>=2023.1.0->datasets>=3.0.0->trl) (1.22.0)\n",
            "Requirement already satisfied: six>=1.5 in /usr/local/lib/python3.12/dist-packages (from python-dateutil>=2.8.2->pandas->datasets>=3.0.0->trl) (1.17.0)\n",
            "Requirement already satisfied: mpmath<1.4,>=1.1.0 in /usr/local/lib/python3.12/dist-packages (from sympy>=1.13.3->torch>=2.0.0->accelerate>=1.4.0->trl) (1.3.0)\n",
            "Requirement already satisfied: MarkupSafe>=2.0 in /usr/local/lib/python3.12/dist-packages (from jinja2->torch>=2.0.0->accelerate>=1.4.0->trl) (3.0.3)\n"
          ]
        }
      ]
    },
    {
      "cell_type": "code",
      "source": [
        "!pip install PyMuPDF\n"
      ],
      "metadata": {
        "colab": {
          "base_uri": "https://localhost:8080/"
        },
        "id": "_czwmODH4uma",
        "outputId": "b4f5276e-c6f7-4a01-fc65-27e94033682d"
      },
      "execution_count": null,
      "outputs": [
        {
          "output_type": "stream",
          "name": "stdout",
          "text": [
            "Requirement already satisfied: PyMuPDF in /usr/local/lib/python3.12/dist-packages (1.26.5)\n"
          ]
        }
      ]
    },
    {
      "cell_type": "code",
      "source": [
        "import fitz\n"
      ],
      "metadata": {
        "id": "kW2hQSir43AO"
      },
      "execution_count": null,
      "outputs": []
    },
    {
      "cell_type": "code",
      "source": [
        "\n",
        "def extract_text_from_pdf(pdf_path):\n",
        "    text_blocks = []\n",
        "    with fitz.open(pdf_path) as doc:\n",
        "        for page in doc:\n",
        "            text = page.get_text(\"text\").strip()\n",
        "            if text:\n",
        "                text_blocks.append(text)\n",
        "    return text_blocks\n"
      ],
      "metadata": {
        "id": "7xH30cG5460O"
      },
      "execution_count": null,
      "outputs": []
    },
    {
      "cell_type": "code",
      "source": [
        "pdf_texts = extract_text_from_pdf(\"/content/pdfs/law1.pdf\")\n"
      ],
      "metadata": {
        "id": "wjiTSNzG48ws"
      },
      "execution_count": null,
      "outputs": []
    },
    {
      "cell_type": "code",
      "source": [
        "pdf_texts\n"
      ],
      "metadata": {
        "colab": {
          "base_uri": "https://localhost:8080/"
        },
        "collapsed": true,
        "id": "Jq91yvvJ5BfS",
        "outputId": "8008badd-3439-4095-9479-51c3e42a1483"
      },
      "execution_count": null,
      "outputs": [
        {
          "output_type": "execute_result",
          "data": {
            "text/plain": [
              "['139 STAT. 3 \\nPUBLIC LAW 119–1—JAN. 29, 2025 \\nPublic Law 119–1 \\n119th Congress \\nAn Act \\nTo require the Secretary of Homeland Security to take into custody aliens who \\nhave been charged in the United States with theft, and for other purposes. \\nBe it enacted by the Senate and House of Representatives of \\nthe United States of America in Congress assembled, \\nSECTION 1. SHORT TITLE. \\nThis Act may be cited as the ‘‘Laken Riley Act’’. \\nSEC. 2. DETENTION OF CERTAIN ALIENS WHO COMMIT THEFT. \\nSection 236(c) of the Immigration and Nationality Act (8 U.S.C. \\n1226(c)) is amended— \\n(1) in paragraph (1)— \\n(A) in subparagraph (C), by striking ‘‘or’’; \\n(B) in subparagraph (D), by striking the comma at \\nthe end and inserting ‘‘, or’’; and \\n(C) by inserting after subparagraph (D) the following: \\n(E)(i) is inadmissible under paragraph (6)(A), (6)(C), \\nor (7) of section 212(a); and \\n‘‘(ii) is charged with, is arrested for, is convicted of, \\nadmits having committed, or admits committing acts which \\nconstitute the essential elements of any burglary, theft, \\nlarceny, shoplifting, or assault of a law enforcement officer \\noffense, or any crime that results in death or serious bodily \\ninjury to another person,’’; \\n(2) by redesignating paragraph (2) as paragraph (4); and \\n(3) by inserting after paragraph (1) the following: \\n‘‘(2) DEFINITION.—For purposes of paragraph (1)(E), the \\nterms ‘burglary’, ‘theft’, ‘larceny’, ‘shoplifting’, ‘assault of a law \\nenforcement officer’, and ‘serious bodily injury’ have the \\nmeanings given such terms in the jurisdiction in which the \\nacts occurred.’’ \\n‘‘(3) DETAINER.—The Secretary of Homeland Security shall \\nissue a detainer for an alien described in paragraph (1)(E) \\nand, if the alien is not otherwise detained by Federal, State, \\nor local officials, shall effectively and expeditiously take custody \\nof the alien.’’. \\nSEC. 3. ENFORCEMENT BY ATTORNEY GENERAL OF A STATE. \\n(a) INSPECTION OF APPLICANTS FOR ADMISSION.—Section 235(b) \\nof the Immigration and Nationality Act (8 U.S.C. 1225(b)) is \\namended— \\n(1) by redesignating paragraph (3) as paragraph (4); and \\n(2) by inserting after paragraph (2) the following: \\n8 USC 1101 note. \\nLaken Riley Act. \\nJan. 29, 2025 \\n[S. 5] \\nVerDate Sep 11 2014 \\n23:43 Feb 11, 2025\\nJkt 059139\\nPO 00001\\nFrm 00001\\nFmt 6580\\nSfmt 6581\\nE:\\\\PUBLAW\\\\PUBL001.119\\nPUBL001\\nrsuess on LAP9Q1F4G3PROD with PUB LAWS PDF',\n",
              " '139 STAT. 4 \\nPUBLIC LAW 119–1—JAN. 29, 2025 \\n‘‘(3) ENFORCEMENT BY ATTORNEY GENERAL OF A STATE.— \\nThe attorney general of a State, or other authorized State \\nofficer, alleging a violation of the detention and removal require-\\nments under paragraph (1) or (2) that harms such State or \\nits residents shall have standing to bring an action against \\nthe Secretary of Homeland Security on behalf of such State \\nor the residents of such State in an appropriate district court \\nof the United States to obtain appropriate injunctive relief. \\nThe court shall advance on the docket and expedite the disposi-\\ntion of a civil action filed under this paragraph to the greatest \\nextent practicable. For purposes of this paragraph, a State \\nor its residents shall be considered to have been harmed if \\nthe State or its residents experience harm, including financial \\nharm in excess of $100.’’. \\n(b) APPREHENSION AND DETENTION OF ALIENS.—Section 236 \\nof the Immigration and Nationality Act (8 U.S.C. 1226), as amended \\nby this Act, is further amended— \\n(1) in subsection (e)— \\n(A) by striking ‘‘or release’’; and \\n(B) by striking ‘‘grant, revocation, or denial’’ and insert \\n‘‘revocation or denial’’; and \\n(2) by adding at the end the following: \\n‘‘(f) ENFORCEMENT BY ATTORNEY GENERAL OF A STATE.—The \\nattorney general of a State, or other authorized State officer, \\nalleging an action or decision by the Attorney General or Secretary \\nof Homeland Security under this section to release any alien or \\ngrant bond or parole to any alien that harms such State or its \\nresidents shall have standing to bring an action against the \\nAttorney General or Secretary of Homeland Security on behalf \\nof such State or the residents of such State in an appropriate \\ndistrict court of the United States to obtain appropriate injunctive \\nrelief. The court shall advance on the docket and expedite the \\ndisposition of a civil action filed under this subsection to the greatest \\nextent practicable. For purposes of this subsection, a State or its \\nresidents shall be considered to have been harmed if the State \\nor its residents experience harm, including financial harm in excess \\nof $100.’’. \\n(c) PENALTIES.—Section 243 of the Immigration and Nationality \\nAct (8 U.S.C. 1253) is amended by adding at the end the following: \\n‘‘(e) ENFORCEMENT BY ATTORNEY GENERAL OF A STATE.—The \\nattorney general of a State, or other authorized State officer, \\nalleging a violation of the requirement to discontinue granting \\nvisas to citizens, subjects, nationals, and residents as described \\nin subsection (d) that harms such State or its residents shall have \\nstanding to bring an action against the Secretary of State on behalf \\nof such State or the residents of such State in an appropriate \\ndistrict court of the United States to obtain appropriate injunctive \\nrelief. The court shall advance on the docket and expedite the \\ndisposition of a civil action filed under this subsection to the greatest \\nextent practicable. For purposes of this subsection, a State or its \\nresidents shall be considered to have been harmed if the State \\nor its residents experience harm, including financial harm in excess \\nof $100.’’. \\n(d) CERTAIN CLASSES\\nOF ALIENS.—Section 212(d)(5) of the \\nImmigration and Nationality Act (8 U.S.C. 1182(d)(5)) is amended— \\n(1) by striking ‘‘Attorney General’’ each place such term \\nappears and inserting ‘‘Secretary of Homeland Security’’; and \\nVerDate Sep 11 2014 \\n23:43 Feb 11, 2025\\nJkt 059139\\nPO 00001\\nFrm 00002\\nFmt 6580\\nSfmt 6581\\nE:\\\\PUBLAW\\\\PUBL001.119\\nPUBL001\\nrsuess on LAP9Q1F4G3PROD with PUB LAWS PDF',\n",
              " '139 STAT. 5 \\nPUBLIC LAW 119–1—JAN. 29, 2025 \\n(2) by adding at the end the following: \\n‘‘(C) The attorney general of a State, or other authorized State \\nofficer, alleging a violation of the limitation under subparagraph \\n(A) that parole solely be granted on a case-by-case basis and solely \\nfor urgent humanitarian reasons or a significant public benefit, \\nthat harms such State or its residents shall have standing to \\nbring an action against the Secretary of Homeland Security on \\nbehalf of such State or the residents of such State in an appropriate \\ndistrict court of the United States to obtain appropriate injunctive \\nrelief. The court shall advance on the docket and expedite the \\ndisposition of a civil action filed under this subparagraph to the \\ngreatest extent practicable. For purposes of this subparagraph, \\na State or its residents shall be considered to have been harmed \\nif the State or its residents experience harm, including financial \\nharm in excess of $100.’’. \\n(e) DETENTION.—Section 241(a)(2) of the Immigration and \\nNationality Act (8 U.S.C. 1231(a)(2)) is amended— \\n(1) by striking ‘‘During the removal period,’’ and inserting \\nthe following: \\n‘‘(A) IN GENERAL.—During the removal period,’’; and \\n(2) by adding at the end the following: \\n‘‘(B) ENFORCEMENT\\nBY\\nATTORNEY\\nGENERAL\\nOF\\nA \\nSTATE.—The attorney general of a State, or other author-\\nized State officer, alleging a violation of the detention \\nrequirement under subparagraph (A) that harms such State \\nor its residents shall have standing to bring an action \\nagainst the Secretary of Homeland Security on behalf of \\nsuch State or the residents of such State in an appropriate \\ndistrict court of the United States to obtain appropriate \\ninjunctive relief. The court shall advance on the docket \\nand expedite the disposition of a civil action filed under \\nthis subparagraph to the greatest extent practicable. For \\npurposes of this subparagraph, a State or its residents \\nshall be considered to have been harmed if the State or \\nits residents experience harm, including financial harm \\nin excess of $100.’’. \\n(f) LIMIT ON INJUNCTIVE RELIEF.—Section 242(f) of the Immigra-\\ntion and Nationality Act (8 U.S.C. 1252(f)) is amended by adding \\nat the end following: \\nVerDate Sep 11 2014 \\n23:43 Feb 11, 2025\\nJkt 059139\\nPO 00001\\nFrm 00003\\nFmt 6580\\nSfmt 6581\\nE:\\\\PUBLAW\\\\PUBL001.119\\nPUBL001\\nrsuess on LAP9Q1F4G3PROD with PUB LAWS PDF',\n",
              " '139 STAT. 6 \\nPUBLIC LAW 119–1—JAN. 29, 2025 \\nLEGISLATIVE HISTORY—S. 5 (H.R. 29): \\nCONGRESSIONAL RECORD, Vol. 171 (2025): \\nJan. 13–17, 20, considered and passed Senate. \\nJan. 22, considered and passed House. \\nDAILY COMPILATION OF PRESIDENTIAL DOCUMENTS (2025): \\nJan. 29, Presidential remarks. \\nÆ \\n‘‘(3) CERTAIN ACTIONS.—Paragraph (1) shall not apply to \\nan action brought pursuant to section 235(b)(3), subsections \\n(e) or (f) of section 236, or section 241(a)(2)(B).’’. \\nApproved January 29, 2025. \\nVerDate Sep 11 2014 \\n23:43 Feb 11, 2025\\nJkt 059139\\nPO 00001\\nFrm 00004\\nFmt 6580\\nSfmt 6580\\nE:\\\\PUBLAW\\\\PUBL001.119\\nPUBL001\\nrsuess on LAP9Q1F4G3PROD with PUB LAWS PDF']"
            ]
          },
          "metadata": {},
          "execution_count": 13
        }
      ]
    },
    {
      "cell_type": "code",
      "source": [
        "import re\n",
        "def split_paragraphs(pages):\n",
        "    paragraphs = []\n",
        "    for page_text in pages:\n",
        "        # Split on double line breaks or long newlines\n",
        "        chunks = re.split(r'\\n\\s*\\n', page_text)\n",
        "        for chunk in chunks:\n",
        "            clean = chunk.strip()\n",
        "            if len(clean) > 30:  # ignore too short lines\n",
        "                paragraphs.append(clean)\n",
        "    return paragraphs\n"
      ],
      "metadata": {
        "id": "i4qy-Ejk5FCJ"
      },
      "execution_count": null,
      "outputs": []
    },
    {
      "cell_type": "code",
      "source": [
        "paragraphs = split_paragraphs(pdf_texts)\n"
      ],
      "metadata": {
        "id": "KySNAcLF5Hw5"
      },
      "execution_count": null,
      "outputs": []
    },
    {
      "cell_type": "code",
      "source": [
        "data = [{\"text\": p} for p in paragraphs]\n"
      ],
      "metadata": {
        "id": "YAiqt2Im5LoQ"
      },
      "execution_count": null,
      "outputs": []
    },
    {
      "cell_type": "code",
      "source": [
        "print(data)\n"
      ],
      "metadata": {
        "colab": {
          "base_uri": "https://localhost:8080/"
        },
        "id": "E_GDm8yr5O2w",
        "outputId": "0905a546-0568-43f3-8c40-644239f30616"
      },
      "execution_count": null,
      "outputs": [
        {
          "output_type": "stream",
          "name": "stdout",
          "text": [
            "[{'text': '139 STAT. 3 \\nPUBLIC LAW 119–1—JAN. 29, 2025 \\nPublic Law 119–1 \\n119th Congress \\nAn Act \\nTo require the Secretary of Homeland Security to take into custody aliens who \\nhave been charged in the United States with theft, and for other purposes. \\nBe it enacted by the Senate and House of Representatives of \\nthe United States of America in Congress assembled, \\nSECTION 1. SHORT TITLE. \\nThis Act may be cited as the ‘‘Laken Riley Act’’. \\nSEC. 2. DETENTION OF CERTAIN ALIENS WHO COMMIT THEFT. \\nSection 236(c) of the Immigration and Nationality Act (8 U.S.C. \\n1226(c)) is amended— \\n(1) in paragraph (1)— \\n(A) in subparagraph (C), by striking ‘‘or’’; \\n(B) in subparagraph (D), by striking the comma at \\nthe end and inserting ‘‘, or’’; and \\n(C) by inserting after subparagraph (D) the following: \\n(E)(i) is inadmissible under paragraph (6)(A), (6)(C), \\nor (7) of section 212(a); and \\n‘‘(ii) is charged with, is arrested for, is convicted of, \\nadmits having committed, or admits committing acts which \\nconstitute the essential elements of any burglary, theft, \\nlarceny, shoplifting, or assault of a law enforcement officer \\noffense, or any crime that results in death or serious bodily \\ninjury to another person,’’; \\n(2) by redesignating paragraph (2) as paragraph (4); and \\n(3) by inserting after paragraph (1) the following: \\n‘‘(2) DEFINITION.—For purposes of paragraph (1)(E), the \\nterms ‘burglary’, ‘theft’, ‘larceny’, ‘shoplifting’, ‘assault of a law \\nenforcement officer’, and ‘serious bodily injury’ have the \\nmeanings given such terms in the jurisdiction in which the \\nacts occurred.’’ \\n‘‘(3) DETAINER.—The Secretary of Homeland Security shall \\nissue a detainer for an alien described in paragraph (1)(E) \\nand, if the alien is not otherwise detained by Federal, State, \\nor local officials, shall effectively and expeditiously take custody \\nof the alien.’’. \\nSEC. 3. ENFORCEMENT BY ATTORNEY GENERAL OF A STATE. \\n(a) INSPECTION OF APPLICANTS FOR ADMISSION.—Section 235(b) \\nof the Immigration and Nationality Act (8 U.S.C. 1225(b)) is \\namended— \\n(1) by redesignating paragraph (3) as paragraph (4); and \\n(2) by inserting after paragraph (2) the following: \\n8 USC 1101 note. \\nLaken Riley Act. \\nJan. 29, 2025 \\n[S. 5] \\nVerDate Sep 11 2014 \\n23:43 Feb 11, 2025\\nJkt 059139\\nPO 00001\\nFrm 00001\\nFmt 6580\\nSfmt 6581\\nE:\\\\PUBLAW\\\\PUBL001.119\\nPUBL001\\nrsuess on LAP9Q1F4G3PROD with PUB LAWS PDF'}, {'text': '139 STAT. 4 \\nPUBLIC LAW 119–1—JAN. 29, 2025 \\n‘‘(3) ENFORCEMENT BY ATTORNEY GENERAL OF A STATE.— \\nThe attorney general of a State, or other authorized State \\nofficer, alleging a violation of the detention and removal require-\\nments under paragraph (1) or (2) that harms such State or \\nits residents shall have standing to bring an action against \\nthe Secretary of Homeland Security on behalf of such State \\nor the residents of such State in an appropriate district court \\nof the United States to obtain appropriate injunctive relief. \\nThe court shall advance on the docket and expedite the disposi-\\ntion of a civil action filed under this paragraph to the greatest \\nextent practicable. For purposes of this paragraph, a State \\nor its residents shall be considered to have been harmed if \\nthe State or its residents experience harm, including financial \\nharm in excess of $100.’’. \\n(b) APPREHENSION AND DETENTION OF ALIENS.—Section 236 \\nof the Immigration and Nationality Act (8 U.S.C. 1226), as amended \\nby this Act, is further amended— \\n(1) in subsection (e)— \\n(A) by striking ‘‘or release’’; and \\n(B) by striking ‘‘grant, revocation, or denial’’ and insert \\n‘‘revocation or denial’’; and \\n(2) by adding at the end the following: \\n‘‘(f) ENFORCEMENT BY ATTORNEY GENERAL OF A STATE.—The \\nattorney general of a State, or other authorized State officer, \\nalleging an action or decision by the Attorney General or Secretary \\nof Homeland Security under this section to release any alien or \\ngrant bond or parole to any alien that harms such State or its \\nresidents shall have standing to bring an action against the \\nAttorney General or Secretary of Homeland Security on behalf \\nof such State or the residents of such State in an appropriate \\ndistrict court of the United States to obtain appropriate injunctive \\nrelief. The court shall advance on the docket and expedite the \\ndisposition of a civil action filed under this subsection to the greatest \\nextent practicable. For purposes of this subsection, a State or its \\nresidents shall be considered to have been harmed if the State \\nor its residents experience harm, including financial harm in excess \\nof $100.’’. \\n(c) PENALTIES.—Section 243 of the Immigration and Nationality \\nAct (8 U.S.C. 1253) is amended by adding at the end the following: \\n‘‘(e) ENFORCEMENT BY ATTORNEY GENERAL OF A STATE.—The \\nattorney general of a State, or other authorized State officer, \\nalleging a violation of the requirement to discontinue granting \\nvisas to citizens, subjects, nationals, and residents as described \\nin subsection (d) that harms such State or its residents shall have \\nstanding to bring an action against the Secretary of State on behalf \\nof such State or the residents of such State in an appropriate \\ndistrict court of the United States to obtain appropriate injunctive \\nrelief. The court shall advance on the docket and expedite the \\ndisposition of a civil action filed under this subsection to the greatest \\nextent practicable. For purposes of this subsection, a State or its \\nresidents shall be considered to have been harmed if the State \\nor its residents experience harm, including financial harm in excess \\nof $100.’’. \\n(d) CERTAIN CLASSES\\nOF ALIENS.—Section 212(d)(5) of the \\nImmigration and Nationality Act (8 U.S.C. 1182(d)(5)) is amended— \\n(1) by striking ‘‘Attorney General’’ each place such term \\nappears and inserting ‘‘Secretary of Homeland Security’’; and \\nVerDate Sep 11 2014 \\n23:43 Feb 11, 2025\\nJkt 059139\\nPO 00001\\nFrm 00002\\nFmt 6580\\nSfmt 6581\\nE:\\\\PUBLAW\\\\PUBL001.119\\nPUBL001\\nrsuess on LAP9Q1F4G3PROD with PUB LAWS PDF'}, {'text': '139 STAT. 5 \\nPUBLIC LAW 119–1—JAN. 29, 2025 \\n(2) by adding at the end the following: \\n‘‘(C) The attorney general of a State, or other authorized State \\nofficer, alleging a violation of the limitation under subparagraph \\n(A) that parole solely be granted on a case-by-case basis and solely \\nfor urgent humanitarian reasons or a significant public benefit, \\nthat harms such State or its residents shall have standing to \\nbring an action against the Secretary of Homeland Security on \\nbehalf of such State or the residents of such State in an appropriate \\ndistrict court of the United States to obtain appropriate injunctive \\nrelief. The court shall advance on the docket and expedite the \\ndisposition of a civil action filed under this subparagraph to the \\ngreatest extent practicable. For purposes of this subparagraph, \\na State or its residents shall be considered to have been harmed \\nif the State or its residents experience harm, including financial \\nharm in excess of $100.’’. \\n(e) DETENTION.—Section 241(a)(2) of the Immigration and \\nNationality Act (8 U.S.C. 1231(a)(2)) is amended— \\n(1) by striking ‘‘During the removal period,’’ and inserting \\nthe following: \\n‘‘(A) IN GENERAL.—During the removal period,’’; and \\n(2) by adding at the end the following: \\n‘‘(B) ENFORCEMENT\\nBY\\nATTORNEY\\nGENERAL\\nOF\\nA \\nSTATE.—The attorney general of a State, or other author-\\nized State officer, alleging a violation of the detention \\nrequirement under subparagraph (A) that harms such State \\nor its residents shall have standing to bring an action \\nagainst the Secretary of Homeland Security on behalf of \\nsuch State or the residents of such State in an appropriate \\ndistrict court of the United States to obtain appropriate \\ninjunctive relief. The court shall advance on the docket \\nand expedite the disposition of a civil action filed under \\nthis subparagraph to the greatest extent practicable. For \\npurposes of this subparagraph, a State or its residents \\nshall be considered to have been harmed if the State or \\nits residents experience harm, including financial harm \\nin excess of $100.’’. \\n(f) LIMIT ON INJUNCTIVE RELIEF.—Section 242(f) of the Immigra-\\ntion and Nationality Act (8 U.S.C. 1252(f)) is amended by adding \\nat the end following: \\nVerDate Sep 11 2014 \\n23:43 Feb 11, 2025\\nJkt 059139\\nPO 00001\\nFrm 00003\\nFmt 6580\\nSfmt 6581\\nE:\\\\PUBLAW\\\\PUBL001.119\\nPUBL001\\nrsuess on LAP9Q1F4G3PROD with PUB LAWS PDF'}, {'text': '139 STAT. 6 \\nPUBLIC LAW 119–1—JAN. 29, 2025 \\nLEGISLATIVE HISTORY—S. 5 (H.R. 29): \\nCONGRESSIONAL RECORD, Vol. 171 (2025): \\nJan. 13–17, 20, considered and passed Senate. \\nJan. 22, considered and passed House. \\nDAILY COMPILATION OF PRESIDENTIAL DOCUMENTS (2025): \\nJan. 29, Presidential remarks. \\nÆ \\n‘‘(3) CERTAIN ACTIONS.—Paragraph (1) shall not apply to \\nan action brought pursuant to section 235(b)(3), subsections \\n(e) or (f) of section 236, or section 241(a)(2)(B).’’. \\nApproved January 29, 2025. \\nVerDate Sep 11 2014 \\n23:43 Feb 11, 2025\\nJkt 059139\\nPO 00001\\nFrm 00004\\nFmt 6580\\nSfmt 6580\\nE:\\\\PUBLAW\\\\PUBL001.119\\nPUBL001\\nrsuess on LAP9Q1F4G3PROD with PUB LAWS PDF'}]\n"
          ]
        }
      ]
    },
    {
      "cell_type": "code",
      "source": [
        "from datasets import Dataset  # correct import\n",
        "\n",
        "# Suppose your data looks like this\n",
        "data = [{\"text\": \"This is a sample paragraph.\"}, {\"text\": \"Another paragraph.\"}]\n",
        "\n",
        "# Create Hugging Face dataset from list\n",
        "dataset = Dataset.from_list(data)\n",
        "\n",
        "print(dataset)\n",
        "\n"
      ],
      "metadata": {
        "id": "SBJRzoM_5RhV",
        "colab": {
          "base_uri": "https://localhost:8080/"
        },
        "outputId": "bf5ce8a6-5a12-44f8-d71b-15c5ae0eedaf"
      },
      "execution_count": null,
      "outputs": [
        {
          "output_type": "stream",
          "name": "stdout",
          "text": [
            "Dataset({\n",
            "    features: ['text'],\n",
            "    num_rows: 2\n",
            "})\n"
          ]
        }
      ]
    },
    {
      "cell_type": "code",
      "source": [
        "dataset\n"
      ],
      "metadata": {
        "colab": {
          "base_uri": "https://localhost:8080/"
        },
        "id": "c3kO5FsY5T9-",
        "outputId": "5431e90c-da80-4073-bc8e-d9548442f23f"
      },
      "execution_count": null,
      "outputs": [
        {
          "output_type": "execute_result",
          "data": {
            "text/plain": [
              "Dataset({\n",
              "    features: ['text'],\n",
              "    num_rows: 2\n",
              "})"
            ]
          },
          "metadata": {},
          "execution_count": 22
        }
      ]
    },
    {
      "cell_type": "code",
      "source": [
        "model_name = \"TinyLlama/TinyLlama-1.1B-intermediate-step-1431k-3T\""
      ],
      "metadata": {
        "id": "rOaaikWt5XS6"
      },
      "execution_count": null,
      "outputs": []
    },
    {
      "cell_type": "code",
      "source": [
        "from transformers import AutoTokenizer, AutoModelForCausalLM, Trainer, TrainingArguments, DataCollatorForLanguageModeling\n"
      ],
      "metadata": {
        "id": "yJg-HK565ZfO"
      },
      "execution_count": null,
      "outputs": []
    },
    {
      "cell_type": "code",
      "source": [
        "tokenizer = AutoTokenizer.from_pretrained(model_name)\n"
      ],
      "metadata": {
        "id": "Vap6TJXq5bkD"
      },
      "execution_count": null,
      "outputs": []
    },
    {
      "cell_type": "code",
      "source": [
        "\n",
        "if tokenizer.pad_token is None:\n",
        "    tokenizer.pad_token = tokenizer.eos_token"
      ],
      "metadata": {
        "id": "wM9gDAAH5io5"
      },
      "execution_count": null,
      "outputs": []
    },
    {
      "cell_type": "code",
      "source": [
        "def tokenize_fn(examples):\n",
        "    tokens = tokenizer(examples[\"text\"],truncation=True,padding=\"max_length\",max_length=512)\n",
        "    tokens[\"labels\"] = tokens[\"input_ids\"].copy()\n",
        "    return tokens"
      ],
      "metadata": {
        "id": "O0Aso7mJ5lWF"
      },
      "execution_count": null,
      "outputs": []
    },
    {
      "cell_type": "code",
      "source": [
        "tokenized = dataset.map(tokenize_fn, batched=True, remove_columns=[\"text\"])\n"
      ],
      "metadata": {
        "colab": {
          "base_uri": "https://localhost:8080/",
          "height": 49,
          "referenced_widgets": [
            "e1a5148bdd714fd29a781056752f06cf",
            "53ea7d45462342afacc85634a6ed6261",
            "d40da17309e1439885e348059e808c41",
            "e8bf1b7914f6463184b04ab56dcb61db",
            "3b250e82752b4092894458eb285af680",
            "bd06ef0f5433434298d148f043c389a3",
            "add93dfa107f4b1cadb745c2304896ad",
            "9af782573221497c99ad30c96fc0e25d",
            "47deeb3cd3bb4f4da7e3b5d92de0f86e",
            "caa4488373aa466398265d8933681d5b",
            "d39198854e9c4da99db9783b570e576d"
          ]
        },
        "id": "5SC0qFCx5pPC",
        "outputId": "d245bad5-7cf7-47f8-a715-7b5c13c359d5"
      },
      "execution_count": null,
      "outputs": [
        {
          "output_type": "display_data",
          "data": {
            "text/plain": [
              "Map:   0%|          | 0/2 [00:00<?, ? examples/s]"
            ],
            "application/vnd.jupyter.widget-view+json": {
              "version_major": 2,
              "version_minor": 0,
              "model_id": "e1a5148bdd714fd29a781056752f06cf"
            }
          },
          "metadata": {}
        }
      ]
    },
    {
      "cell_type": "code",
      "source": [
        "tokenized\n"
      ],
      "metadata": {
        "colab": {
          "base_uri": "https://localhost:8080/"
        },
        "id": "xkFk8ej15rz4",
        "outputId": "3ff16a93-8e11-4034-bd45-4ba46b7266c0"
      },
      "execution_count": null,
      "outputs": [
        {
          "output_type": "execute_result",
          "data": {
            "text/plain": [
              "Dataset({\n",
              "    features: ['input_ids', 'attention_mask', 'labels'],\n",
              "    num_rows: 2\n",
              "})"
            ]
          },
          "metadata": {},
          "execution_count": 29
        }
      ]
    },
    {
      "cell_type": "code",
      "source": [
        "model = AutoModelForCausalLM.from_pretrained(model_name)\n"
      ],
      "metadata": {
        "id": "jqDTuMsc5t23"
      },
      "execution_count": null,
      "outputs": []
    },
    {
      "cell_type": "code",
      "source": [
        "training_args = TrainingArguments(\n",
        "    output_dir=\"./llama-law-domain\",\n",
        "    overwrite_output_dir=True,\n",
        "    num_train_epochs=2,\n",
        "    per_device_train_batch_size=2,\n",
        "    save_steps=500,\n",
        "    save_total_limit=2,\n",
        "    logging_steps=50,\n",
        "    learning_rate=2e-5,\n",
        "    fp16=True,\n",
        "    report_to=\"none\",\n",
        "    gradient_checkpointing=True,\n",
        ")"
      ],
      "metadata": {
        "id": "f8uQxTeO5wjT"
      },
      "execution_count": null,
      "outputs": []
    },
    {
      "cell_type": "code",
      "source": [
        "import torch, gc\n",
        "gc.collect()\n",
        "torch.cuda.empty_cache()"
      ],
      "metadata": {
        "id": "_LBulOrbA-yJ"
      },
      "execution_count": null,
      "outputs": []
    },
    {
      "cell_type": "code",
      "source": [
        "!pip install -U peft bitsandbytes transformers accelerate\n"
      ],
      "metadata": {
        "colab": {
          "base_uri": "https://localhost:8080/"
        },
        "collapsed": true,
        "id": "vm2dgNNvBDoA",
        "outputId": "3ff5c174-3306-461b-ee97-2e96b8a9d8e5"
      },
      "execution_count": null,
      "outputs": [
        {
          "output_type": "stream",
          "name": "stdout",
          "text": [
            "Requirement already satisfied: peft in /usr/local/lib/python3.12/dist-packages (0.17.1)\n",
            "Requirement already satisfied: bitsandbytes in /usr/local/lib/python3.12/dist-packages (0.48.1)\n",
            "Requirement already satisfied: transformers in /usr/local/lib/python3.12/dist-packages (4.57.1)\n",
            "Requirement already satisfied: accelerate in /usr/local/lib/python3.12/dist-packages (1.11.0)\n",
            "Requirement already satisfied: numpy>=1.17 in /usr/local/lib/python3.12/dist-packages (from peft) (2.0.2)\n",
            "Requirement already satisfied: packaging>=20.0 in /usr/local/lib/python3.12/dist-packages (from peft) (25.0)\n",
            "Requirement already satisfied: psutil in /usr/local/lib/python3.12/dist-packages (from peft) (5.9.5)\n",
            "Requirement already satisfied: pyyaml in /usr/local/lib/python3.12/dist-packages (from peft) (6.0.3)\n",
            "Requirement already satisfied: torch>=1.13.0 in /usr/local/lib/python3.12/dist-packages (from peft) (2.8.0+cu126)\n",
            "Requirement already satisfied: tqdm in /usr/local/lib/python3.12/dist-packages (from peft) (4.67.1)\n",
            "Requirement already satisfied: safetensors in /usr/local/lib/python3.12/dist-packages (from peft) (0.6.2)\n",
            "Requirement already satisfied: huggingface_hub>=0.25.0 in /usr/local/lib/python3.12/dist-packages (from peft) (0.36.0)\n",
            "Requirement already satisfied: filelock in /usr/local/lib/python3.12/dist-packages (from transformers) (3.20.0)\n",
            "Requirement already satisfied: regex!=2019.12.17 in /usr/local/lib/python3.12/dist-packages (from transformers) (2024.11.6)\n",
            "Requirement already satisfied: requests in /usr/local/lib/python3.12/dist-packages (from transformers) (2.32.4)\n",
            "Requirement already satisfied: tokenizers<=0.23.0,>=0.22.0 in /usr/local/lib/python3.12/dist-packages (from transformers) (0.22.1)\n",
            "Requirement already satisfied: fsspec>=2023.5.0 in /usr/local/lib/python3.12/dist-packages (from huggingface_hub>=0.25.0->peft) (2025.3.0)\n",
            "Requirement already satisfied: typing-extensions>=3.7.4.3 in /usr/local/lib/python3.12/dist-packages (from huggingface_hub>=0.25.0->peft) (4.15.0)\n",
            "Requirement already satisfied: hf-xet<2.0.0,>=1.1.3 in /usr/local/lib/python3.12/dist-packages (from huggingface_hub>=0.25.0->peft) (1.2.0)\n",
            "Requirement already satisfied: setuptools in /usr/local/lib/python3.12/dist-packages (from torch>=1.13.0->peft) (75.2.0)\n",
            "Requirement already satisfied: sympy>=1.13.3 in /usr/local/lib/python3.12/dist-packages (from torch>=1.13.0->peft) (1.13.3)\n",
            "Requirement already satisfied: networkx in /usr/local/lib/python3.12/dist-packages (from torch>=1.13.0->peft) (3.5)\n",
            "Requirement already satisfied: jinja2 in /usr/local/lib/python3.12/dist-packages (from torch>=1.13.0->peft) (3.1.6)\n",
            "Requirement already satisfied: nvidia-cuda-nvrtc-cu12==12.6.77 in /usr/local/lib/python3.12/dist-packages (from torch>=1.13.0->peft) (12.6.77)\n",
            "Requirement already satisfied: nvidia-cuda-runtime-cu12==12.6.77 in /usr/local/lib/python3.12/dist-packages (from torch>=1.13.0->peft) (12.6.77)\n",
            "Requirement already satisfied: nvidia-cuda-cupti-cu12==12.6.80 in /usr/local/lib/python3.12/dist-packages (from torch>=1.13.0->peft) (12.6.80)\n",
            "Requirement already satisfied: nvidia-cudnn-cu12==9.10.2.21 in /usr/local/lib/python3.12/dist-packages (from torch>=1.13.0->peft) (9.10.2.21)\n",
            "Requirement already satisfied: nvidia-cublas-cu12==12.6.4.1 in /usr/local/lib/python3.12/dist-packages (from torch>=1.13.0->peft) (12.6.4.1)\n",
            "Requirement already satisfied: nvidia-cufft-cu12==11.3.0.4 in /usr/local/lib/python3.12/dist-packages (from torch>=1.13.0->peft) (11.3.0.4)\n",
            "Requirement already satisfied: nvidia-curand-cu12==10.3.7.77 in /usr/local/lib/python3.12/dist-packages (from torch>=1.13.0->peft) (10.3.7.77)\n",
            "Requirement already satisfied: nvidia-cusolver-cu12==11.7.1.2 in /usr/local/lib/python3.12/dist-packages (from torch>=1.13.0->peft) (11.7.1.2)\n",
            "Requirement already satisfied: nvidia-cusparse-cu12==12.5.4.2 in /usr/local/lib/python3.12/dist-packages (from torch>=1.13.0->peft) (12.5.4.2)\n",
            "Requirement already satisfied: nvidia-cusparselt-cu12==0.7.1 in /usr/local/lib/python3.12/dist-packages (from torch>=1.13.0->peft) (0.7.1)\n",
            "Requirement already satisfied: nvidia-nccl-cu12==2.27.3 in /usr/local/lib/python3.12/dist-packages (from torch>=1.13.0->peft) (2.27.3)\n",
            "Requirement already satisfied: nvidia-nvtx-cu12==12.6.77 in /usr/local/lib/python3.12/dist-packages (from torch>=1.13.0->peft) (12.6.77)\n",
            "Requirement already satisfied: nvidia-nvjitlink-cu12==12.6.85 in /usr/local/lib/python3.12/dist-packages (from torch>=1.13.0->peft) (12.6.85)\n",
            "Requirement already satisfied: nvidia-cufile-cu12==1.11.1.6 in /usr/local/lib/python3.12/dist-packages (from torch>=1.13.0->peft) (1.11.1.6)\n",
            "Requirement already satisfied: triton==3.4.0 in /usr/local/lib/python3.12/dist-packages (from torch>=1.13.0->peft) (3.4.0)\n",
            "Requirement already satisfied: charset_normalizer<4,>=2 in /usr/local/lib/python3.12/dist-packages (from requests->transformers) (3.4.4)\n",
            "Requirement already satisfied: idna<4,>=2.5 in /usr/local/lib/python3.12/dist-packages (from requests->transformers) (3.11)\n",
            "Requirement already satisfied: urllib3<3,>=1.21.1 in /usr/local/lib/python3.12/dist-packages (from requests->transformers) (2.5.0)\n",
            "Requirement already satisfied: certifi>=2017.4.17 in /usr/local/lib/python3.12/dist-packages (from requests->transformers) (2025.10.5)\n",
            "Requirement already satisfied: mpmath<1.4,>=1.1.0 in /usr/local/lib/python3.12/dist-packages (from sympy>=1.13.3->torch>=1.13.0->peft) (1.3.0)\n",
            "Requirement already satisfied: MarkupSafe>=2.0 in /usr/local/lib/python3.12/dist-packages (from jinja2->torch>=1.13.0->peft) (3.0.3)\n"
          ]
        }
      ]
    },
    {
      "cell_type": "code",
      "source": [
        "from transformers import AutoTokenizer, AutoModelForCausalLM, TrainingArguments, Trainer\n",
        "from peft import LoraConfig, get_peft_model, TaskType\n",
        "from datasets import load_dataset"
      ],
      "metadata": {
        "id": "M-XD8MkNBRjI"
      },
      "execution_count": null,
      "outputs": []
    },
    {
      "cell_type": "code",
      "source": [
        "model = \"TinyLlama/TinyLlama-1.1B-intermediate-step-1431k-3T\"\n"
      ],
      "metadata": {
        "id": "EFlVRYqvBX7w"
      },
      "execution_count": null,
      "outputs": []
    },
    {
      "cell_type": "code",
      "source": [
        "tokenizer = AutoTokenizer.from_pretrained(model)\n"
      ],
      "metadata": {
        "id": "he8kh--IBeY1"
      },
      "execution_count": null,
      "outputs": []
    },
    {
      "cell_type": "code",
      "source": [
        "\n",
        "if tokenizer.pad_token is None:\n",
        "    tokenizer.pad_token = tokenizer.eos_token"
      ],
      "metadata": {
        "id": "rGT494OkBjiK"
      },
      "execution_count": null,
      "outputs": []
    },
    {
      "cell_type": "code",
      "source": [
        "def tokenize_fn(examples):\n",
        "    tokens = tokenizer(\n",
        "        examples[\"text\"],\n",
        "        truncation=True,\n",
        "        padding=\"max_length\",\n",
        "        max_length=512\n",
        "    )\n",
        "    tokens[\"labels\"] = tokens[\"input_ids\"].copy()\n",
        "    return tokens\n"
      ],
      "metadata": {
        "id": "mm1hoaykBl_D"
      },
      "execution_count": null,
      "outputs": []
    },
    {
      "cell_type": "code",
      "source": [
        "tokenized = dataset.map(tokenize_fn, batched=True)\n"
      ],
      "metadata": {
        "colab": {
          "base_uri": "https://localhost:8080/",
          "height": 49,
          "referenced_widgets": [
            "ad918ab99d9e423b8e4eb908f40ea567",
            "b8f3af72b6b74e429da7493a2c8196fc",
            "586c643726744d01ae6359f5a29c2189",
            "4bc219f9b88241168d2bb05a7e730b10",
            "4397d6cadff2462c94b4c59beb87e0ff",
            "83c8cdbb4c2242509cf843f8badc5680",
            "58e567e5c9bc4fd79f2ee1f355487cc9",
            "8318123303fb408eaaafb3728561911c",
            "25826b5dd6a7474dbacf13e53e46d8b1",
            "e6393532c1894108be80de4828172d5a",
            "d1bdf5d8119740b2b5238c321f65bb9a"
          ]
        },
        "id": "b9Q6ssnUBoHz",
        "outputId": "222ed631-5df9-4beb-e4a5-26aa50d81da4"
      },
      "execution_count": null,
      "outputs": [
        {
          "output_type": "display_data",
          "data": {
            "text/plain": [
              "Map:   0%|          | 0/2 [00:00<?, ? examples/s]"
            ],
            "application/vnd.jupyter.widget-view+json": {
              "version_major": 2,
              "version_minor": 0,
              "model_id": "ad918ab99d9e423b8e4eb908f40ea567"
            }
          },
          "metadata": {}
        }
      ]
    },
    {
      "cell_type": "code",
      "source": [
        "tokenized\n"
      ],
      "metadata": {
        "colab": {
          "base_uri": "https://localhost:8080/"
        },
        "id": "UWGmkIVIC5_i",
        "outputId": "6fdcdef0-d3ae-4c3b-b9a3-8bf948d5cd36"
      },
      "execution_count": null,
      "outputs": [
        {
          "output_type": "execute_result",
          "data": {
            "text/plain": [
              "Dataset({\n",
              "    features: ['text', 'input_ids', 'attention_mask', 'labels'],\n",
              "    num_rows: 2\n",
              "})"
            ]
          },
          "metadata": {},
          "execution_count": 40
        }
      ]
    },
    {
      "cell_type": "code",
      "source": [
        "!pip install -U bitsandbytes\n"
      ],
      "metadata": {
        "colab": {
          "base_uri": "https://localhost:8080/"
        },
        "collapsed": true,
        "id": "j0sKSCr2DHsX",
        "outputId": "2b4181d1-ded3-41c9-979b-71b5480657a2"
      },
      "execution_count": null,
      "outputs": [
        {
          "output_type": "stream",
          "name": "stdout",
          "text": [
            "Requirement already satisfied: bitsandbytes in /usr/local/lib/python3.12/dist-packages (0.48.1)\n",
            "Requirement already satisfied: torch<3,>=2.3 in /usr/local/lib/python3.12/dist-packages (from bitsandbytes) (2.8.0+cu126)\n",
            "Requirement already satisfied: numpy>=1.17 in /usr/local/lib/python3.12/dist-packages (from bitsandbytes) (2.0.2)\n",
            "Requirement already satisfied: packaging>=20.9 in /usr/local/lib/python3.12/dist-packages (from bitsandbytes) (25.0)\n",
            "Requirement already satisfied: filelock in /usr/local/lib/python3.12/dist-packages (from torch<3,>=2.3->bitsandbytes) (3.20.0)\n",
            "Requirement already satisfied: typing-extensions>=4.10.0 in /usr/local/lib/python3.12/dist-packages (from torch<3,>=2.3->bitsandbytes) (4.15.0)\n",
            "Requirement already satisfied: setuptools in /usr/local/lib/python3.12/dist-packages (from torch<3,>=2.3->bitsandbytes) (75.2.0)\n",
            "Requirement already satisfied: sympy>=1.13.3 in /usr/local/lib/python3.12/dist-packages (from torch<3,>=2.3->bitsandbytes) (1.13.3)\n",
            "Requirement already satisfied: networkx in /usr/local/lib/python3.12/dist-packages (from torch<3,>=2.3->bitsandbytes) (3.5)\n",
            "Requirement already satisfied: jinja2 in /usr/local/lib/python3.12/dist-packages (from torch<3,>=2.3->bitsandbytes) (3.1.6)\n",
            "Requirement already satisfied: fsspec in /usr/local/lib/python3.12/dist-packages (from torch<3,>=2.3->bitsandbytes) (2025.3.0)\n",
            "Requirement already satisfied: nvidia-cuda-nvrtc-cu12==12.6.77 in /usr/local/lib/python3.12/dist-packages (from torch<3,>=2.3->bitsandbytes) (12.6.77)\n",
            "Requirement already satisfied: nvidia-cuda-runtime-cu12==12.6.77 in /usr/local/lib/python3.12/dist-packages (from torch<3,>=2.3->bitsandbytes) (12.6.77)\n",
            "Requirement already satisfied: nvidia-cuda-cupti-cu12==12.6.80 in /usr/local/lib/python3.12/dist-packages (from torch<3,>=2.3->bitsandbytes) (12.6.80)\n",
            "Requirement already satisfied: nvidia-cudnn-cu12==9.10.2.21 in /usr/local/lib/python3.12/dist-packages (from torch<3,>=2.3->bitsandbytes) (9.10.2.21)\n",
            "Requirement already satisfied: nvidia-cublas-cu12==12.6.4.1 in /usr/local/lib/python3.12/dist-packages (from torch<3,>=2.3->bitsandbytes) (12.6.4.1)\n",
            "Requirement already satisfied: nvidia-cufft-cu12==11.3.0.4 in /usr/local/lib/python3.12/dist-packages (from torch<3,>=2.3->bitsandbytes) (11.3.0.4)\n",
            "Requirement already satisfied: nvidia-curand-cu12==10.3.7.77 in /usr/local/lib/python3.12/dist-packages (from torch<3,>=2.3->bitsandbytes) (10.3.7.77)\n",
            "Requirement already satisfied: nvidia-cusolver-cu12==11.7.1.2 in /usr/local/lib/python3.12/dist-packages (from torch<3,>=2.3->bitsandbytes) (11.7.1.2)\n",
            "Requirement already satisfied: nvidia-cusparse-cu12==12.5.4.2 in /usr/local/lib/python3.12/dist-packages (from torch<3,>=2.3->bitsandbytes) (12.5.4.2)\n",
            "Requirement already satisfied: nvidia-cusparselt-cu12==0.7.1 in /usr/local/lib/python3.12/dist-packages (from torch<3,>=2.3->bitsandbytes) (0.7.1)\n",
            "Requirement already satisfied: nvidia-nccl-cu12==2.27.3 in /usr/local/lib/python3.12/dist-packages (from torch<3,>=2.3->bitsandbytes) (2.27.3)\n",
            "Requirement already satisfied: nvidia-nvtx-cu12==12.6.77 in /usr/local/lib/python3.12/dist-packages (from torch<3,>=2.3->bitsandbytes) (12.6.77)\n",
            "Requirement already satisfied: nvidia-nvjitlink-cu12==12.6.85 in /usr/local/lib/python3.12/dist-packages (from torch<3,>=2.3->bitsandbytes) (12.6.85)\n",
            "Requirement already satisfied: nvidia-cufile-cu12==1.11.1.6 in /usr/local/lib/python3.12/dist-packages (from torch<3,>=2.3->bitsandbytes) (1.11.1.6)\n",
            "Requirement already satisfied: triton==3.4.0 in /usr/local/lib/python3.12/dist-packages (from torch<3,>=2.3->bitsandbytes) (3.4.0)\n",
            "Requirement already satisfied: mpmath<1.4,>=1.1.0 in /usr/local/lib/python3.12/dist-packages (from sympy>=1.13.3->torch<3,>=2.3->bitsandbytes) (1.3.0)\n",
            "Requirement already satisfied: MarkupSafe>=2.0 in /usr/local/lib/python3.12/dist-packages (from jinja2->torch<3,>=2.3->bitsandbytes) (3.0.3)\n"
          ]
        }
      ]
    },
    {
      "cell_type": "code",
      "source": [
        "model = AutoModelForCausalLM.from_pretrained(\n",
        "    model,\n",
        "    load_in_8bit=True,\n",
        "    device_map=\"auto\"\n",
        ")"
      ],
      "metadata": {
        "colab": {
          "base_uri": "https://localhost:8080/"
        },
        "id": "jNOPPJo0Dad8",
        "outputId": "843457fa-05a5-4b39-c6a9-7799d714d25b"
      },
      "execution_count": null,
      "outputs": [
        {
          "output_type": "stream",
          "name": "stderr",
          "text": [
            "The `load_in_4bit` and `load_in_8bit` arguments are deprecated and will be removed in the future versions. Please, pass a `BitsAndBytesConfig` object in `quantization_config` argument instead.\n"
          ]
        }
      ]
    },
    {
      "cell_type": "code",
      "source": [
        "lora_config = LoraConfig(\n",
        "    task_type=TaskType.CAUSAL_LM,\n",
        "    r=8,\n",
        "    lora_alpha=16,\n",
        "    target_modules=[\"q_proj\",\"v_proj\"],\n",
        "    lora_dropout=0.05,\n",
        "    bias=\"none\"\n",
        ")"
      ],
      "metadata": {
        "id": "pLkm3MdmDrFM"
      },
      "execution_count": null,
      "outputs": []
    },
    {
      "cell_type": "code",
      "source": [
        "model = get_peft_model(model, lora_config)"
      ],
      "metadata": {
        "id": "KOy7oTPuDur7"
      },
      "execution_count": null,
      "outputs": []
    },
    {
      "cell_type": "code",
      "source": [
        "\n",
        "args = TrainingArguments(\n",
        "    output_dir=\"./tinyllama-lora\",\n",
        "    num_train_epochs=5,\n",
        "    per_device_train_batch_size=1,\n",
        "    gradient_accumulation_steps=8,\n",
        "    learning_rate=2e-4,\n",
        "    fp16=True,\n",
        "    logging_steps=20,\n",
        "    save_total_limit=1,\n",
        "    report_to=\"none\"\n",
        ")"
      ],
      "metadata": {
        "id": "4acHZucgDzj6"
      },
      "execution_count": null,
      "outputs": []
    },
    {
      "cell_type": "code",
      "source": [
        "trainer = Trainer(\n",
        "    model=model,\n",
        "    args=args,\n",
        "    train_dataset=tokenized\n",
        ")"
      ],
      "metadata": {
        "id": "Et_mnxAKD7yt"
      },
      "execution_count": null,
      "outputs": []
    },
    {
      "cell_type": "code",
      "source": [
        "trainer.train()\n"
      ],
      "metadata": {
        "colab": {
          "base_uri": "https://localhost:8080/",
          "height": 129
        },
        "id": "Tfoh-Or_D-0_",
        "outputId": "237373e5-c3c4-4ed1-b7d6-af46bd96bf1b"
      },
      "execution_count": null,
      "outputs": [
        {
          "output_type": "display_data",
          "data": {
            "text/plain": [
              "<IPython.core.display.HTML object>"
            ],
            "text/html": [
              "\n",
              "    <div>\n",
              "      \n",
              "      <progress value='5' max='5' style='width:300px; height:20px; vertical-align: middle;'></progress>\n",
              "      [5/5 00:05, Epoch 5/5]\n",
              "    </div>\n",
              "    <table border=\"1\" class=\"dataframe\">\n",
              "  <thead>\n",
              " <tr style=\"text-align: left;\">\n",
              "      <th>Step</th>\n",
              "      <th>Training Loss</th>\n",
              "    </tr>\n",
              "  </thead>\n",
              "  <tbody>\n",
              "  </tbody>\n",
              "</table><p>"
            ]
          },
          "metadata": {}
        },
        {
          "output_type": "execute_result",
          "data": {
            "text/plain": [
              "TrainOutput(global_step=5, training_loss=7.138377380371094, metrics={'train_runtime': 9.5332, 'train_samples_per_second': 1.049, 'train_steps_per_second': 0.524, 'total_flos': 31814823444480.0, 'train_loss': 7.138377380371094, 'epoch': 5.0})"
            ]
          },
          "metadata": {},
          "execution_count": 48
        }
      ]
    },
    {
      "cell_type": "code",
      "source": [
        "model_path = \"/content/tinyllama-lora/checkpoint-5\""
      ],
      "metadata": {
        "id": "3RL1ugegEXe2"
      },
      "execution_count": null,
      "outputs": []
    },
    {
      "cell_type": "code",
      "source": [
        "model = AutoModelForCausalLM.from_pretrained(model_path, device_map=\"auto\")\n"
      ],
      "metadata": {
        "id": "RddTYIytEhyh"
      },
      "execution_count": null,
      "outputs": []
    },
    {
      "cell_type": "code",
      "source": [
        "prompt = \"What does the Laken Riley Act require the Secretary of Homeland Security to do when an alien has been charged with theft??\""
      ],
      "metadata": {
        "id": "Af1LMrZyFKZ6"
      },
      "execution_count": null,
      "outputs": []
    },
    {
      "cell_type": "code",
      "source": [
        "inputs = tokenizer(prompt, return_tensors=\"pt\").to(\"cuda\")"
      ],
      "metadata": {
        "id": "L3u7BPvrFCGd"
      },
      "execution_count": null,
      "outputs": []
    },
    {
      "cell_type": "code",
      "source": [
        "outputs = model.generate(\n",
        "    **inputs,\n",
        "    max_new_tokens=100,\n",
        "    temperature=0.8,\n",
        "    top_p=0.9,\n",
        "    do_sample=True,\n",
        "    repetition_penalty=1.1\n",
        ")"
      ],
      "metadata": {
        "id": "H-4vwHU5FE0X"
      },
      "execution_count": null,
      "outputs": []
    },
    {
      "cell_type": "code",
      "source": [
        "print(\"\\nModel Output:\\n\")\n",
        "print(tokenizer.decode(outputs[0], skip_special_tokens=True))"
      ],
      "metadata": {
        "colab": {
          "base_uri": "https://localhost:8080/"
        },
        "id": "c3HdChWeFSKQ",
        "outputId": "41d96dd4-e5e1-4311-90cc-1213ffd76208"
      },
      "execution_count": null,
      "outputs": [
        {
          "output_type": "stream",
          "name": "stdout",
          "text": [
            "\n",
            "Model Output:\n",
            "\n",
            "What does the Laken Riley Act require the Secretary of Homeland Security to do when an alien has been charged with theft??\n",
            "I'm not sure that the law requires anything. It says \"may\" and \"shall\". There is no requirement. The problem may be that they don't have enough information or can't verify it. Or there is a lack of resources to handle it.\n",
            "It's also not clear what \"charge\" means in this context. It could mean that they were suspected of stealing, which would be a civil matter, or it could mean that they were charged\n"
          ]
        }
      ]
    }
  ]
}